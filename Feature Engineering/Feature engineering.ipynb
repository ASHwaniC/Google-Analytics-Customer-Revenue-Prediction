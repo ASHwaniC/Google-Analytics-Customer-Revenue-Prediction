{
 "cells": [
  {
   "cell_type": "code",
   "execution_count": null,
   "metadata": {
    "_cell_guid": "b1076dfc-b9ad-4769-8c92-a6c4dae69d19",
    "_uuid": "8f2839f25d086af736a60e9eeb907d3b93b6e0e5"
   },
   "outputs": [],
   "source": [
    "import numpy as np # linear algebra\n",
    "import pandas as pd # data processing, CSV file I/O (e.g. pd.read_csv)\n",
    "import json\n",
    "from pandas.io.json import json_normalize\n",
    "import matplotlib.pyplot as plt\n",
    "import seaborn as sns"
   ]
  },
  {
   "cell_type": "code",
   "execution_count": null,
   "metadata": {
    "_uuid": "034802f0f52b45867c93b70bad974c4b566703a8",
    "scrolled": true
   },
   "outputs": [],
   "source": [
    "def load_df(csv_path, nrows=None):\n",
    "    USE_COLUMNS = [\n",
    "        'channelGrouping', 'date', 'device', 'fullVisitorId', 'geoNetwork',\n",
    "        'socialEngagementType', 'totals', 'trafficSource', 'visitId',\n",
    "        'visitNumber', 'visitStartTime', 'customDimensions'\n",
    "        #'hits'\n",
    "    ]\n",
    "    JSON_COLUMNS = ['device', 'geoNetwork', 'totals', 'trafficSource']\n",
    "    \n",
    "    df = pd.read_csv(csv_path, \n",
    "                     converters={column: json.loads for column in JSON_COLUMNS}, \n",
    "                     dtype={'fullVisitorId': 'str'}, # Important!!\n",
    "                     nrows=nrows, usecols=USE_COLUMNS)\n",
    "    \n",
    "    for column in JSON_COLUMNS:\n",
    "        column_as_df = json_normalize(df[column])\n",
    "        column_as_df.columns = [f\"{column}.{subcolumn}\" for subcolumn in column_as_df.columns]\n",
    "        df = df.drop(column, axis=1).merge(column_as_df, right_index=True, left_index=True)\n",
    "    print(f\"Loaded {os.path.basename(csv_path)}. Shape: {df.shape}\")\n",
    "    return df"
   ]
  },
  {
   "cell_type": "code",
   "execution_count": null,
   "metadata": {
    "_uuid": "49becfef9df38d8c624c9beb63516e43d4bfba1c"
   },
   "outputs": [],
   "source": [
    "%%time\n",
    "train_df = load_df(\"../input/train_v2.csv\")\n",
    "test_df = load_df(\"../input/test_v2.csv\")"
   ]
  },
  {
   "cell_type": "code",
   "execution_count": null,
   "metadata": {
    "_uuid": "bb3925b993ec872982ed4312aa47443365bfcd85"
   },
   "outputs": [],
   "source": [
    "print(train_df.columns.difference(test_df.columns))\n",
    "print(test_df.columns.difference(train_df.columns))"
   ]
  },
  {
   "cell_type": "code",
   "execution_count": null,
   "metadata": {
    "_uuid": "440f1b1d5ae9c3eca8f4b688216b82a22424a370"
   },
   "outputs": [],
   "source": [
    "train_df = train_df.drop(labels=['trafficSource.campaignCode'],axis=1)\n",
    "train_df = train_df.drop(labels=['customDimensions','totals.totalTransactionRevenue'],axis=1)\n",
    "test_df = test_df.drop(labels=['customDimensions','totals.transactionRevenue','totals.totalTransactionRevenue'],axis=1)"
   ]
  },
  {
   "cell_type": "code",
   "execution_count": null,
   "metadata": {
    "_uuid": "01389cf426a5c531a072d26812b13afc3f76ab94",
    "scrolled": true
   },
   "outputs": [],
   "source": [
    "#Converting the datatype of date field\n",
    "train_df['date']= pd.to_datetime(train_df['date'],format='%Y%m%d')\n",
    "test_df['date']= pd.to_datetime(test_df['date'],format='%Y%m%d')\n",
    "train_df.head()"
   ]
  },
  {
   "cell_type": "code",
   "execution_count": null,
   "metadata": {
    "_kg_hide-output": true,
    "_uuid": "e1fcaa062f7e5206c7e98193e13c3d12df4269a6"
   },
   "outputs": [],
   "source": [
    "#We need to predict totals.transactionRevenue. Lets explore that variable\n",
    "train_df['totals.transactionRevenue'] = train_df['totals.transactionRevenue'].astype('float')\n",
    "print('Total records: ', len(train_df), 'customers doesnt contribute for revenue: ',train_df['totals.transactionRevenue'].isna().sum(), \\\n",
    "      'customers contributing revenue: ',len(train_df) - train_df['totals.transactionRevenue'].isna().sum())\n"
   ]
  },
  {
   "cell_type": "markdown",
   "metadata": {
    "_uuid": "892e62cbc9b34abf1d61966d6a5b3db5a762483e"
   },
   "source": [
    "Purely an imbalanced dataset"
   ]
  },
  {
   "cell_type": "code",
   "execution_count": null,
   "metadata": {
    "_uuid": "b0768d3df6b2b1e8322a471de13a649be513e1c6"
   },
   "outputs": [],
   "source": [
    "#Lets start with data cleaning\n",
    "#Find any unique value columns\n",
    "print('Features with one unique values are :')\n",
    "print(train_df.columns[train_df.nunique()==1])\n",
    "new_df = train_df.drop(labels=train_df.columns[train_df.nunique()==1],axis=1)\n",
    "test_df = test_df.drop(labels=train_df.columns[train_df.nunique()==1],axis=1)"
   ]
  },
  {
   "cell_type": "code",
   "execution_count": null,
   "metadata": {
    "_kg_hide-output": true,
    "_uuid": "ac909d267b305f2a1043a37df7ca4ac823a547fd",
    "scrolled": false
   },
   "outputs": [],
   "source": [
    "print(new_df.shape)\n",
    "pd.options.display.max_columns=new_df.shape[1]\n",
    "print(new_df.info())\n",
    "new_df.head()"
   ]
  },
  {
   "cell_type": "markdown",
   "metadata": {
    "_uuid": "a530c136aae357902f696b41fd0e781185f4c27f"
   },
   "source": [
    "Based on Initial glance of data we can drop following fields while exploring\n",
    "* sessionId - Unique number for a session\n",
    "* visitId - Nth visit fullVisitorId is visiting the store \n",
    "* visitStartTime - Time of Visit \n"
   ]
  },
  {
   "cell_type": "code",
   "execution_count": null,
   "metadata": {
    "_uuid": "834e8754321c5ee0d3d89a772c4dc2575c5cea22"
   },
   "outputs": [],
   "source": [
    "\n",
    "geofields = ['geoNetwork.city','geoNetwork.continent','geoNetwork.country','geoNetwork.metro','geoNetwork.networkDomain','geoNetwork.region','geoNetwork.subContinent']\n",
    "\n",
    "for fields in geofields:\n",
    "    temp_df = new_df.groupby(by=fields).size().sort_values(ascending=False).head(10)\n",
    "    print(temp_df)\n",
    "    print('*'*30)\n",
    "    "
   ]
  },
  {
   "cell_type": "code",
   "execution_count": null,
   "metadata": {
    "_uuid": "44947e39f2a93925e8e102f550533d4c6140ee89"
   },
   "outputs": [],
   "source": [
    "temp = new_df.groupby(by=['fullVisitorId']).agg({'visitId':'count','totals.transactionRevenue':'sum'})\n",
    "print(temp.corr())\n",
    "temp.plot(kind='scatter',x='visitId',y='totals.transactionRevenue')"
   ]
  },
  {
   "cell_type": "markdown",
   "metadata": {
    "_uuid": "c64125105704f9f313f03e6952e16885e06092b1"
   },
   "source": [
    "No of visits doesn't have much relation with transactionRevenue"
   ]
  },
  {
   "cell_type": "code",
   "execution_count": null,
   "metadata": {
    "_uuid": "5a557540d71c12e507bda3b30618a65ad0e10f84"
   },
   "outputs": [],
   "source": [
    "#Lets analyze how the visits and transactionRevenue trend with date\n",
    "plot_df = new_df.groupby(by=['date']).agg({'fullVisitorId':'count','totals.transactionRevenue':'sum'}).reset_index()\n",
    "\n",
    "fig = plt.figure(figsize=(15,8))\n",
    "plt.subplot(2,1,1)\n",
    "plt.plot(pd.to_datetime(plot_df['date']),plot_df['totals.transactionRevenue'])\n",
    "plt.ylabel('Revenue')\n",
    "plt.xticks(rotation=90)\n",
    "\n",
    "plt.subplot(2,1,2)\n",
    "plt.plot(pd.to_datetime(plot_df['date']),plot_df['fullVisitorId'])\n",
    "plt.ylabel('Visits')\n",
    "plt.xticks(rotation=90);\n",
    "\n",
    "for ax in fig.axes:\n",
    "    plt.sca(ax)\n",
    "    plt.xticks(rotation=90)"
   ]
  },
  {
   "cell_type": "markdown",
   "metadata": {
    "_uuid": "28b2f29cfa863c2857396e0952504fcddfc85f7b"
   },
   "source": [
    "Numer of visits drasitically increases from October and reduces in December. But that didnt contribute much on revenue. As only one year of data available, we cannot identify any YoY pattern of data."
   ]
  },
  {
   "cell_type": "code",
   "execution_count": null,
   "metadata": {
    "_uuid": "f02b5f0b414bf38c727d11f6950f0d5515b3f206"
   },
   "outputs": [],
   "source": [
    "#Weekly pattern\n",
    "\n",
    "plot_df = new_df.groupby(by=['date']).agg({'fullVisitorId':'count','totals.transactionRevenue':'sum'})\n",
    "\n",
    "plot_df = plot_df.resample('W').mean()\n",
    "\n",
    "plt.figure(figsize=(15,8))\n",
    "plt.subplot(2,1,1)\n",
    "plt.plot(plot_df.index,plot_df['totals.transactionRevenue'])\n",
    "plt.ylabel('Revenue')\n",
    "\n",
    "plt.subplot(2,1,2)\n",
    "plt.plot(plot_df.index,plot_df['fullVisitorId'])\n",
    "plt.ylabel('Visits');"
   ]
  },
  {
   "cell_type": "code",
   "execution_count": null,
   "metadata": {
    "_uuid": "c6da040337fbb08efea236af862328b9718fedff"
   },
   "outputs": [],
   "source": [
    "plot_df = new_df.groupby(by=['fullVisitorId']).agg({'channelGrouping':'count','totals.transactionRevenue':'sum'})\n",
    "\n",
    "plt.figure(figsize=(10,8))\n",
    "plt.subplot(2,1,1)\n",
    "plt.hist(np.log1p(plot_df[plot_df['totals.transactionRevenue']>0]['totals.transactionRevenue']))\n",
    "\n",
    "plt.subplot(2,1,2)\n",
    "plt.hist(np.log1p(plot_df[plot_df['totals.transactionRevenue']>0]['totals.transactionRevenue']))"
   ]
  },
  {
   "cell_type": "code",
   "execution_count": null,
   "metadata": {
    "_uuid": "b2f8d95560074c83fb57361e7ed7fcfb87413718"
   },
   "outputs": [],
   "source": [
    "#new_df = new_df.drop(labels=['sessionId','visitId','visitStartTime'])\n",
    "new_df.isna().sum()"
   ]
  },
  {
   "cell_type": "code",
   "execution_count": null,
   "metadata": {
    "_uuid": "fd11632c1290bf0d8a5dc705bf3c7d39333e796e"
   },
   "outputs": [],
   "source": [
    "new_df['totals.transactionRevenue'].fillna(value=0,inplace=True)\n",
    "transaction_df = new_df[new_df['totals.transactionRevenue']>0.0]\n",
    "nontransaction_df = new_df[new_df['totals.transactionRevenue']<=0]\n",
    "print(transaction_df.shape, nontransaction_df.shape)\n",
    "#new_df['totals.transactionRevenue']>0.0"
   ]
  },
  {
   "cell_type": "code",
   "execution_count": null,
   "metadata": {
    "_uuid": "297130e70937993b3fc706526d7d628d134c08be",
    "scrolled": false
   },
   "outputs": [],
   "source": [
    "def getplot(df1, df2, groupfield):\n",
    "    fig =plt.figure(figsize=(15,8))\n",
    "    plt.subplot(2,1,1)\n",
    "    plot_df = df1.groupby(by=[groupfield])['totals.transactionRevenue'].size().reset_index()\n",
    "    plot_df = plot_df.sort_values(by=['totals.transactionRevenue'], ascending=False).head(10)\n",
    "    plt1 = plt.bar(plot_df[groupfield],plot_df['totals.transactionRevenue'])\n",
    "\n",
    "    plt.subplot(2,1,2)\n",
    "    plot_df = df2.groupby(by=[groupfield])['totals.transactionRevenue'].size().reset_index()\n",
    "    plot_df = plot_df.sort_values(by=['totals.transactionRevenue'], ascending=False).head(10)\n",
    "    plt2 = plt.bar(plot_df[groupfield],plot_df['totals.transactionRevenue'])\n",
    "    for ax in fig.axes:\n",
    "        plt.sca(ax)\n",
    "        plt.xticks(rotation=90)\n",
    "    #fig.tight_layout()\n",
    "    return plt1, plt2"
   ]
  },
  {
   "cell_type": "code",
   "execution_count": null,
   "metadata": {
    "_uuid": "8623cc52322b6ffaaadff2c0f1d88bc1bf58a5ff"
   },
   "outputs": [],
   "source": [
    "getplot(transaction_df,nontransaction_df,'geoNetwork.country');"
   ]
  },
  {
   "cell_type": "code",
   "execution_count": null,
   "metadata": {
    "_uuid": "ca63b2f28775bd460a95b514142a14647548621f"
   },
   "outputs": [],
   "source": [
    "getplot(transaction_df,nontransaction_df,'geoNetwork.city');"
   ]
  },
  {
   "cell_type": "code",
   "execution_count": null,
   "metadata": {
    "_uuid": "8634b7f7fe43cc6d2ab849b9eb346bb415ba2e58"
   },
   "outputs": [],
   "source": [
    "getplot(transaction_df,nontransaction_df,'geoNetwork.continent');"
   ]
  },
  {
   "cell_type": "code",
   "execution_count": null,
   "metadata": {
    "_uuid": "be76315e7878ae7cf4342b8b1dd4a69becdd2228"
   },
   "outputs": [],
   "source": [
    "getplot(transaction_df,nontransaction_df,'geoNetwork.metro');"
   ]
  },
  {
   "cell_type": "code",
   "execution_count": null,
   "metadata": {
    "_uuid": "4ce14b0cd674e6800f68dc5485c9a628b403c079"
   },
   "outputs": [],
   "source": [
    "getplot(transaction_df,nontransaction_df,'geoNetwork.networkDomain');"
   ]
  },
  {
   "cell_type": "code",
   "execution_count": null,
   "metadata": {
    "_uuid": "9cbc1253c62cac7f7f4b5826b3decc0f17225c5a"
   },
   "outputs": [],
   "source": [
    "getplot(transaction_df,nontransaction_df,'geoNetwork.region');"
   ]
  },
  {
   "cell_type": "code",
   "execution_count": null,
   "metadata": {
    "_uuid": "d646ccff394b063ae1d179e8a2af112dce4f55d6"
   },
   "outputs": [],
   "source": [
    "getplot(transaction_df,nontransaction_df,'geoNetwork.subContinent');"
   ]
  },
  {
   "cell_type": "code",
   "execution_count": null,
   "metadata": {
    "_uuid": "2a0ab6e1da973d2067df8f7105ff331facd463bc"
   },
   "outputs": [],
   "source": [
    "getplot(transaction_df,nontransaction_df,'channelGrouping');"
   ]
  },
  {
   "cell_type": "markdown",
   "metadata": {
    "_uuid": "6db0b9f9e615779fe28723d4bfe10eab553c754a"
   },
   "source": [
    "Lets drop labels other than city and subcontinent. As city is the lower granular level in geo. As most values in city is 'not available' lets keep another variable subcontinent as an additional field.\n"
   ]
  },
  {
   "cell_type": "code",
   "execution_count": null,
   "metadata": {
    "_uuid": "36eefb87510913f0a4ee684f420f9eec153dafed"
   },
   "outputs": [],
   "source": [
    "new_df1 = new_df.drop(labels=['geoNetwork.region','geoNetwork.networkDomain','geoNetwork.metro','geoNetwork.continent','geoNetwork.country','visitId','visitStartTime'],axis=1)\n",
    "test_df1 = test_df.drop(labels=['geoNetwork.region','geoNetwork.networkDomain','geoNetwork.metro','geoNetwork.continent','geoNetwork.country','visitId','visitStartTime'],axis=1)\n"
   ]
  },
  {
   "cell_type": "markdown",
   "metadata": {
    "_uuid": "beb1ad518c62c00abc43a0883f6e358d9edfcb43"
   },
   "source": [
    "Only one year of data is available. With Date or Month we couldn't find any relation. Lets drop it. \n",
    "device.isMobile is a duplicate variable as the detail is covered in deviceCategory\n"
   ]
  },
  {
   "cell_type": "code",
   "execution_count": null,
   "metadata": {
    "_uuid": "d70df2e94eb567ded735135bcc5202e06def610b"
   },
   "outputs": [],
   "source": [
    "new_df1 = new_df1.drop(labels=['date','device.isMobile'], axis=1)\n",
    "test_df1 = test_df1.drop(labels=['date','device.isMobile'], axis=1)"
   ]
  },
  {
   "cell_type": "code",
   "execution_count": null,
   "metadata": {
    "_uuid": "49d795b080e81c52e37c246f1ab814e69c00fdf7"
   },
   "outputs": [],
   "source": [
    "getplot(transaction_df,nontransaction_df,'device.browser');"
   ]
  },
  {
   "cell_type": "code",
   "execution_count": null,
   "metadata": {
    "_uuid": "ba2fe8cfd712b89cc532e28e6dcabd28591b708f"
   },
   "outputs": [],
   "source": [
    "getplot(transaction_df,nontransaction_df,'device.deviceCategory');"
   ]
  },
  {
   "cell_type": "code",
   "execution_count": null,
   "metadata": {
    "_uuid": "26ab87260fd69f83c925b27f77749c17e9222e9f"
   },
   "outputs": [],
   "source": [
    "getplot(transaction_df,nontransaction_df,'device.operatingSystem');"
   ]
  },
  {
   "cell_type": "code",
   "execution_count": null,
   "metadata": {
    "_uuid": "ae0281c22cfd3fee69a43b33a054befedc24a783"
   },
   "outputs": [],
   "source": [
    "transaction_df['trafficSource.adContent'].fillna('NA',inplace=True)\n",
    "getplot(transaction_df,nontransaction_df,'trafficSource.adContent')\n",
    "#NA values seems to contribute more for revenue :p"
   ]
  },
  {
   "cell_type": "code",
   "execution_count": null,
   "metadata": {
    "_uuid": "9aa67ac2cca91adef43b2c45d5235ba62df1600a"
   },
   "outputs": [],
   "source": [
    "getplot(transaction_df,nontransaction_df,'trafficSource.source')"
   ]
  },
  {
   "cell_type": "code",
   "execution_count": null,
   "metadata": {
    "_uuid": "55a90a34fd8abf7dabee01c98878db7d7acd2955"
   },
   "outputs": [],
   "source": [
    "new_df1 = new_df1.drop(labels=['trafficSource.adwordsClickInfo.adNetworkType', 'trafficSource.adwordsClickInfo.gclId', 'trafficSource.adwordsClickInfo.page', 'trafficSource.adwordsClickInfo.slot', 'trafficSource.medium', 'trafficSource.medium', 'trafficSource.referralPath','trafficSource.source'],axis=1)\n",
    "test_df1 = test_df1.drop(labels=['trafficSource.adwordsClickInfo.adNetworkType', 'trafficSource.adwordsClickInfo.gclId', 'trafficSource.adwordsClickInfo.page', 'trafficSource.adwordsClickInfo.slot', 'trafficSource.medium', 'trafficSource.medium', 'trafficSource.referralPath','trafficSource.source'],axis=1)\n",
    "print(new_df1.shape)\n",
    "new_df1.head()"
   ]
  },
  {
   "cell_type": "code",
   "execution_count": null,
   "metadata": {
    "_uuid": "70c62329d7dfaf64214457cbc8aae8809f4ac520"
   },
   "outputs": [],
   "source": [
    "new_df1.fillna('0',inplace=True)\n",
    "test_df1.fillna('0',inplace=True)"
   ]
  },
  {
   "cell_type": "code",
   "execution_count": null,
   "metadata": {
    "_uuid": "285a02accf28ef48bbcac373b8a1d7dd9650ab68"
   },
   "outputs": [],
   "source": [
    "new_df1.isna().sum()"
   ]
  },
  {
   "cell_type": "code",
   "execution_count": null,
   "metadata": {
    "_uuid": "fd9f5ce9dc521aa9b0a06276bb9ba6921142a484"
   },
   "outputs": [],
   "source": [
    "new_df1['trafficSource.adContent'].fillna('Noadcontent',inplace=True)\n",
    "new_df1['trafficSource.keyword'].fillna('NA',inplace=True)\n",
    "test_df1['trafficSource.adContent'].fillna('Noadcontent',inplace=True)\n",
    "test_df1['trafficSource.keyword'].fillna('NA',inplace=True)\n",
    "\n",
    "for columns in ['totals.sessionQualityDim','totals.timeOnSite','totals.transactions']:\n",
    "    new_df1[columns].fillna('0',inplace=True)\n",
    "    new_df1[columns] = new_df1[columns].astype('int')\n",
    "    test_df1[columns].fillna('0',inplace=True)\n",
    "    test_df1[columns] = test_df1[columns].astype('int')"
   ]
  },
  {
   "cell_type": "code",
   "execution_count": null,
   "metadata": {
    "_uuid": "a6f6a1030cc2f368fe69a4edac4d6e0105611326"
   },
   "outputs": [],
   "source": [
    "new_df1.info()"
   ]
  },
  {
   "cell_type": "code",
   "execution_count": null,
   "metadata": {
    "_uuid": "c15456eb326070babd692e4838695d1bf8378baa"
   },
   "outputs": [],
   "source": [
    "new_df1.head()"
   ]
  },
  {
   "cell_type": "code",
   "execution_count": null,
   "metadata": {
    "_uuid": "878321fc7a57f66844c73b12ef2f73a7065c10e7"
   },
   "outputs": [],
   "source": [
    "def convert_category_todummies(df,field):\n",
    "    #print('Processing ', field)\n",
    "    dummy_df = pd.get_dummies(df[field])\n",
    "    df = pd.concat([df,dummy_df],axis=1)\n",
    "    df.drop(labels=[field],axis=1,inplace=True)\n",
    "    return df"
   ]
  },
  {
   "cell_type": "code",
   "execution_count": null,
   "metadata": {
    "_uuid": "f3846fe16916afc5bcedef66a8421023346ced73"
   },
   "outputs": [],
   "source": [
    "def convert_category_tolevel(df,field):\n",
    "    df[field],index = pd.factorize(df[field])\n",
    "    return df"
   ]
  },
  {
   "cell_type": "code",
   "execution_count": null,
   "metadata": {
    "_uuid": "3bd8bf7aedb80691a3371b44d7768406030115b2"
   },
   "outputs": [],
   "source": [
    "#test_df1=test_df1.drop(labels=['totals.transactionRevenue'],axis=1)"
   ]
  },
  {
   "cell_type": "code",
   "execution_count": null,
   "metadata": {
    "_uuid": "2d7a3b7ab99d46e4615204d3f9615b6e61f62123"
   },
   "outputs": [],
   "source": [
    "#Data cleaning\n",
    "train_size = new_df1.shape[0]\n",
    "merged_df = pd.concat([new_df1,test_df1])\n",
    "merged_df['totals.pageviews']=merged_df['totals.pageviews'].astype('int')\n",
    "merged_df['totals.hits']=merged_df['totals.pageviews'].astype('int')\n",
    "merged_df = merged_df.drop(labels=['trafficSource.keyword'],axis=1)\n",
    "print('Before: ', merged_df.shape)\n",
    "columns = merged_df.columns\n",
    "for fields in columns:\n",
    "    if merged_df[fields].dtype == 'object' and fields not in ['fullVisitorId','method']:\n",
    "        print('Unique values for ', fields, len(merged_df[fields].unique()), merged_df[fields].unique())\n",
    "        if len(merged_df[fields].unique()) > 40:\n",
    "            print('Level conversion')\n",
    "            merged_df[fields] = convert_category_tolevel(merged_df,fields)\n",
    "            merged_df[fields] = merged_df[fields].astype('int')\n",
    "        else:\n",
    "            print('One hot conversion')\n",
    "            merged_df = convert_category_todummies(merged_df,fields)\n",
    "            #merged_df = merged_df.drop(labels=[fields],axis=1)\n",
    "print('After: ', merged_df.shape)"
   ]
  },
  {
   "cell_type": "code",
   "execution_count": null,
   "metadata": {
    "_uuid": "902d22317a90ebdb2fed91447d98f017e273196c"
   },
   "outputs": [],
   "source": [
    "from sklearn.preprocessing import MinMaxScaler\n",
    "\n",
    "scaler1 = MinMaxScaler()\n",
    "\n",
    "#merged_df1 = merged_df.groupby(by=['fullVisitorId']).mean()\n",
    "merged_df['totals.transactionRevenue'] = np.log1p(merged_df['totals.transactionRevenue'])\n",
    "\n",
    "\n",
    "new_df1 = merged_df.iloc[:train_size]\n",
    "test_df1 = merged_df[train_size:]\n",
    "#new_df1 = new_df1.drop(labels=['method'],axis=1)\n",
    "test_df1 = test_df1.drop(labels=['totals.transactionRevenue'],axis=1)\n",
    "print(new_df1.shape, test_df1.shape)"
   ]
  },
  {
   "cell_type": "code",
   "execution_count": null,
   "metadata": {
    "_uuid": "c48b5ea0145add9548e0d13686d4c75809e67064"
   },
   "outputs": [],
   "source": [
    "import gc\n",
    "del train_df, new_df, test_df,merged_df, transaction_df, nontransaction_df, plot_df\n",
    "gc.collect()"
   ]
  },
  {
   "cell_type": "code",
   "execution_count": null,
   "metadata": {
    "_uuid": "c8c88e4017e42e6eae45f79476c3a0ea18ebe54c"
   },
   "outputs": [],
   "source": [
    "#we need to predict log revenue per customer. Lets group by full visitor id\n",
    "train_x = new_df1.groupby(by=['fullVisitorId']).mean()\n",
    "del new_df1\n",
    "gc.collect()\n"
   ]
  }
 ],
 "metadata": {
  "kernelspec": {
   "display_name": "Python 3",
   "language": "python",
   "name": "python3"
  },
  "language_info": {
   "codemirror_mode": {
    "name": "ipython",
    "version": 3
   },
   "file_extension": ".py",
   "mimetype": "text/x-python",
   "name": "python",
   "nbconvert_exporter": "python",
   "pygments_lexer": "ipython3",
   "version": "3.6.5"
  }
 },
 "nbformat": 4,
 "nbformat_minor": 1
}
