{
 "cells": [
  {
   "cell_type": "code",
   "execution_count": null,
   "metadata": {
    "_uuid": "d7bc29b32ca4dfa9a899e69065ddc8a4bd45a1d9"
   },
   "outputs": [],
   "source": [
    "train_y = train_x['totals.transactionRevenue']\n",
    "train_x = train_x.drop(labels=['totals.transactionRevenue'],axis=1)\n",
    "scaled_x = scaler1.fit_transform(train_x.values)\n",
    "#train_y = np.log1p(train_y)\n",
    "train_x = pd.DataFrame(scaled_x, columns=train_x.columns)"
   ]
  },
  {
   "cell_type": "code",
   "execution_count": null,
   "metadata": {
    "_uuid": "76f1815802449d5a61ae3b47f70ea3c59ba10991"
   },
   "outputs": [],
   "source": [
    "import lightgbm as lgb\n",
    "from sklearn.model_selection import train_test_split\n",
    "\n",
    "X_train, X_val, y_train, y_val = train_test_split(train_x, train_y, test_size=0.15, random_state=1)\n",
    "\n",
    "lgb_train_data = lgb.Dataset(X_train, label=y_train)\n",
    "lgb_val_data = lgb.Dataset(X_val, label=y_val)\n",
    "\n",
    "params = {\n",
    "        \"objective\" : \"regression\",\n",
    "        \"metric\" : \"rmse\",\n",
    "        #\"num_leaves\" : 40,\n",
    "        \"max_depth\" : 10,\n",
    "        \"boosting\" : \"gbdt\",\n",
    "        \"learning_rate\" : 0.0025,\n",
    "        \"bagging_fraction\" : 0.7,\n",
    "        \"feature_fraction\" : 0.7,\n",
    "        \"bagging_frequency\" : 6,\n",
    "        \"bagging_seed\" : 42,\n",
    "        \"seed\": 42}\n",
    "model = lgb.train(params, lgb_train_data, \n",
    "                      num_boost_round=5000,\n",
    "                      valid_sets=[lgb_train_data, lgb_val_data],\n",
    "                      early_stopping_rounds=100,\n",
    "                      verbose_eval=500)"
   ]
  },
  {
   "cell_type": "code",
   "execution_count": null,
   "metadata": {
    "_uuid": "4f54ae721dea4ffaec8da5adb85f0a7f18b49956"
   },
   "outputs": [],
   "source": [
    "test_x = test_df1.groupby(by=['fullVisitorId']).mean()\n",
    "visitorid = test_x.index\n",
    "scaled_test = scaler1.transform(test_x)\n",
    "test_x = pd.DataFrame(scaled_test,columns=test_x.columns)"
   ]
  },
  {
   "cell_type": "code",
   "execution_count": null,
   "metadata": {
    "_uuid": "e2a9f9376af9299db94623d99c69b11d3c1d4f83"
   },
   "outputs": [],
   "source": [
    "from sklearn.metrics import mean_squared_error\n",
    "y_pred_train = model.predict(X_train, num_iteration=model.best_iteration)\n",
    "y_pred_val = model.predict(X_val, num_iteration=model.best_iteration)\n",
    "y_pred_submit = model.predict(test_x, num_iteration=model.best_iteration)\n",
    "\n",
    "print(f\"LGBM: RMSE val: {np.sqrt(mean_squared_error(y_val, y_pred_val))}  - RMSE train: {np.sqrt(mean_squared_error(y_train, y_pred_train))}\")"
   ]
  },
  {
   "cell_type": "code",
   "execution_count": null,
   "metadata": {
    "_uuid": "d1ba6cf128f2f5c5d43bda72f22c328126061fe0",
    "scrolled": false
   },
   "outputs": [],
   "source": [
    "plt.style.use('ggplot')\n",
    "lgb.plot_importance(model,max_num_features=15)"
   ]
  },
  {
   "cell_type": "code",
   "execution_count": null,
   "metadata": {
    "_uuid": "50ef8f8957bd72e93fd41742826dff32a918be04"
   },
   "outputs": [],
   "source": [
    "submission = pd.DataFrame({'fullVisitorId':visitorid,'PredictedLogRevenue':np.squeeze(y_pred_submit)})\n",
    "submission['fullVisitorId']= submission['fullVisitorId'].astype(str)\n",
    "submission['PredictedLogRevenue']=submission['PredictedLogRevenue'].apply(lambda x: 0 if x<0 else x)\n"
   ]
  }
 ],
 "metadata": {
  "kernelspec": {
   "display_name": "Python 3",
   "language": "python",
   "name": "python3"
  },
  "language_info": {
   "codemirror_mode": {
    "name": "ipython",
    "version": 3
   },
   "file_extension": ".py",
   "mimetype": "text/x-python",
   "name": "python",
   "nbconvert_exporter": "python",
   "pygments_lexer": "ipython3",
   "version": "3.6.5"
  }
 },
 "nbformat": 4,
 "nbformat_minor": 1
}
