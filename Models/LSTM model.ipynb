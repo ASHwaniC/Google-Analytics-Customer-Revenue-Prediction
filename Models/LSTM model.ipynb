{
 "cells": [
  {
   "cell_type": "code",
   "execution_count": null,
   "metadata": {
    "_uuid": "d7bc29b32ca4dfa9a899e69065ddc8a4bd45a1d9"
   },
   "outputs": [],
   "source": [
    "train_y = train_x['totals.transactionRevenue']\n",
    "train_x = train_x.drop(labels=['totals.transactionRevenue'],axis=1)\n",
    "scaled_x = scaler1.fit_transform(train_x.values)\n",
    "#train_y = np.log1p(train_y)\n",
    "train_x = pd.DataFrame(scaled_x, columns=train_x.columns)"
   ]
  },
  {
   "cell_type": "code",
   "execution_count": null,
   "metadata": {
    "_uuid": "32be3b67d07fbca2833f7fac02f5a53dafcbab36"
   },
   "outputs": [],
   "source": [
    "from keras.models import Sequential\n",
    "from keras.layers import Dense\n",
    "from keras.layers import LSTM, Bidirectional, Dropout\n",
    "from keras.callbacks import ReduceLROnPlateau\n",
    "\n",
    "X_train = X_train.values\n",
    "X_val = X_val.values\n",
    "y_train = y_train.values\n",
    "y_val = y_val.values\n",
    "X_train = X_train.reshape(X_train.shape[0],1,X_train.shape[1])\n",
    "X_val = X_val.reshape(X_val.shape[0],1,X_val.shape[1])\n"
   ]
  },
  {
   "cell_type": "code",
   "execution_count": null,
   "metadata": {
    "_uuid": "2f7bcb910abe9c93c58ca0dc9dae20b40925e21c"
   },
   "outputs": [],
   "source": [
    "from keras.layers import Input\n",
    "from keras.models import Model\n",
    "\n",
    "inputs = Input(shape=(1,70))\n",
    "x = Bidirectional(LSTM(200,recurrent_dropout=0.2, kernel_initializer='lecun_normal', return_sequences=True))(inputs)\n",
    "x = Bidirectional(LSTM(120,recurrent_dropout=0.2, kernel_initializer='lecun_normal'))(x)\n",
    "x = Dense(50, activation='sigmoid')(x)\n",
    "x = Dropout(0.1)(x)\n",
    "x = Dense(20,activation='elu')(x)\n",
    "output = Dense(1,activation='linear')(x)\n",
    "\n",
    "model2 = Model(inputs=inputs, outputs=output)\n",
    "model2.compile(loss='mse', optimizer='adam')\n",
    "model2.fit(X_train, y_train, epochs=4, batch_size=64, validation_data=(X_val, y_val), verbose=1, shuffle=False)"
   ]
  },
  {
   "cell_type": "code",
   "execution_count": null,
   "metadata": {
    "_uuid": "60093069090dc4f10b2e63ebb2ec3de94a8257c0"
   },
   "outputs": [],
   "source": [
    "test_x = test_x.values\n",
    "test_x = test_x.reshape((test_x.shape[0],1,test_x.shape[1]))\n",
    "\n",
    "y_pred_train = model2.predict(X_train)\n",
    "y_pred_val = model2.predict(X_val)\n",
    "y_pred_submit = model2.predict(test_x)\n",
    "\n",
    "print(f\"LSTM: RMSE val: {np.sqrt(mean_squared_error(y_val, y_pred_val))}  - RMSE train: {np.sqrt(mean_squared_error(y_train, y_pred_train))}\")"
   ]
  },
  {
   "cell_type": "code",
   "execution_count": null,
   "metadata": {
    "_uuid": "488481454dcf4cc7df602069e88287374adf172f"
   },
   "outputs": [],
   "source": [
    "submission = pd.DataFrame({'fullVisitorId':visitorid,'PredictedLogRevenue':np.squeeze(y_pred_submit)})\n",
    "submission['fullVisitorId']= submission['fullVisitorId'].astype(str)\n",
    "submission['PredictedLogRevenue']=submission['PredictedLogRevenue'].apply(lambda x: 0 if x<0 else x)"
   ]
  }
 ],
 "metadata": {
  "kernelspec": {
   "display_name": "Python 3",
   "language": "python",
   "name": "python3"
  },
  "language_info": {
   "codemirror_mode": {
    "name": "ipython",
    "version": 3
   },
   "file_extension": ".py",
   "mimetype": "text/x-python",
   "name": "python",
   "nbconvert_exporter": "python",
   "pygments_lexer": "ipython3",
   "version": "3.6.5"
  }
 },
 "nbformat": 4,
 "nbformat_minor": 1
}
